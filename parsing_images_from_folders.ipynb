{
 "cells": [
  {
   "cell_type": "code",
   "execution_count": null,
   "id": "0eefc63b",
   "metadata": {},
   "outputs": [],
   "source": [
    "import shutil\n",
    "import os\n",
    "from glob import glob\n",
    "import pandas as pd\n",
    "\n",
    "os.chdir('A:\\LDA Reconciliation')\n",
    "\n",
    "# Define all available exams\n",
    "data_path = 'CCHMC_Chest_Xray\\*'\n",
    "patient_paths = glob(data_path)\n",
    "\n",
    "\n",
    "# Define exams to be copied\n",
    "excel = pd.read_excel('Pilot_Cohort\\Report_Excel\\LDA_Keywords_Count_pilot.xlsx', sheet_name=0)\n",
    "MRN_column = excel['Patient MRN'].tolist()\n",
    "Accession_column = excel['Accession Number'].tolist()\n",
    "\n",
    "# Define paths where files will be copied to\n",
    "new_path_Accession = 'Pilot_Cohort\\Pilot_Cohort_Data_byAccession-NM'\n",
    "\n",
    "# Create 'for' loop to iterate through each MRN\n",
    "for k in patient_paths:\n",
    "    exams = os.path.basename(k)\n",
    "    if exams == 'Reports':\n",
    "        continue\n",
    "    patient_MRN = exams.split(\"-\")[1] + \"-\" + exams.split(\"-\")[2]\n",
    "    if patient_MRN in MRN_column:\n",
    "        MRN_files = os.listdir(k)\n",
    "        for file in MRN_files: # Find applicable Accessions\n",
    "            new_name = (file.split('-')[2] + \"-\" + file.split(\"-\")[3]).split(\"R\")[0]\n",
    "            if new_name in Accession_column:\n",
    "                print('Copying ' + new_name)\n",
    "                shutil.copytree(os.path.join(k, file), os.path.join(new_path_Accession, file)) # Copy to new folder\n",
    "            else:\n",
    "                continue"
   ]
  }
 ],
 "metadata": {
  "kernelspec": {
   "display_name": "Python 3 (ipykernel)",
   "language": "python",
   "name": "python3"
  },
  "language_info": {
   "codemirror_mode": {
    "name": "ipython",
    "version": 3
   },
   "file_extension": ".py",
   "mimetype": "text/x-python",
   "name": "python",
   "nbconvert_exporter": "python",
   "pygments_lexer": "ipython3",
   "version": "3.9.12"
  }
 },
 "nbformat": 4,
 "nbformat_minor": 5
}
